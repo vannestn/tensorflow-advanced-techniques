{
 "cells": [
  {
   "cell_type": "markdown",
   "metadata": {
    "colab_type": "text",
    "id": "view-in-github"
   },
   "source": [
    "<a href=\"https://colab.research.google.com/github/https-deeplearning-ai/tensorflow-3-public/blob/main/Course%201%20-%20Custom%20Models%2C%20Layers%20and%20Loss%20Functions/Week%205%20-%20Callbacks/C1_W5_Lab_1_exploring-callbacks.ipynb\" target=\"_parent\"><img src=\"https://colab.research.google.com/assets/colab-badge.svg\" alt=\"Open In Colab\"/></a>"
   ]
  },
  {
   "cell_type": "markdown",
   "metadata": {
    "colab_type": "text",
    "id": "0c_TYhQOUe1j"
   },
   "source": [
    "# Ungraded Lab: Introduction to Keras callbacks\n",
    "\n",
    "In Keras, `Callback` is a Python class meant to be subclassed to provide specific functionality, with a set of methods called at various stages of training (including batch/epoch start and ends), testing, and predicting. Callbacks are useful to get a view on internal states and statistics of the model during training. The methods of the callbacks can  be called at different stages of training/evaluating/inference. Keras has available [callbacks](https://keras.io/api/callbacks/) and we'll show how you can use it in the following sections. Please click the **Open in Colab** badge above to complete this exercise in Colab. This will allow you to take advantage of the free GPU runtime (for faster training) and compatibility with all the packages needed in this notebook."
   ]
  },
  {
   "cell_type": "markdown",
   "metadata": {
    "colab_type": "text",
    "id": "Uyl69EyRQx-f"
   },
   "source": [
    "## Model methods that take callbacks\n",
    "Users can supply a list of callbacks to the following `tf.keras.Model` methods:\n",
    "* [`fit()`](https://www.tensorflow.org/versions/r2.0/api_docs/python/tf/keras/Model#fit), [`fit_generator()`](https://www.tensorflow.org/versions/r2.0/api_docs/python/tf/keras/Model#fit_generator)\n",
    "Trains the model for a fixed number of epochs (iterations over a dataset, or data yielded batch-by-batch by a Python generator).\n",
    "* [`evaluate()`](https://www.tensorflow.org/versions/r2.0/api_docs/python/tf/keras/Model#evaluate), [`evaluate_generator()`](https://www.tensorflow.org/versions/r2.0/api_docs/python/tf/keras/Model#evaluate_generator)\n",
    "Evaluates the model for given data or data generator. Outputs the loss and metric values from the evaluation.\n",
    "* [`predict()`](https://www.tensorflow.org/versions/r2.0/api_docs/python/tf/keras/Model#predict), [`predict_generator()`](https://www.tensorflow.org/versions/r2.0/api_docs/python/tf/keras/Model#predict_generator)\n",
    "Generates output predictions for the input data or data generator."
   ]
  },
  {
   "cell_type": "markdown",
   "metadata": {},
   "source": [
    "## Imports"
   ]
  },
  {
   "cell_type": "code",
   "execution_count": 1,
   "metadata": {
    "colab": {},
    "colab_type": "code",
    "id": "AlT1Kh3uA9lZ"
   },
   "outputs": [
    {
     "name": "stdout",
     "output_type": "stream",
     "text": [
      "Version:  2.1.0\n"
     ]
    }
   ],
   "source": [
    "from __future__ import absolute_import, division, print_function, unicode_literals\n",
    "\n",
    "try:\n",
    "    # %tensorflow_version only exists in Colab.\n",
    "    %tensorflow_version 2.x\n",
    "except Exception:\n",
    "    pass\n",
    "\n",
    "import tensorflow as tf\n",
    "import tensorflow_datasets as tfds\n",
    "import matplotlib.pyplot as plt\n",
    "import io\n",
    "from PIL import Image\n",
    "\n",
    "from tensorflow.keras.callbacks import TensorBoard, EarlyStopping, LearningRateScheduler, ModelCheckpoint, CSVLogger, ReduceLROnPlateau\n",
    "%load_ext tensorboard\n",
    "\n",
    "import os\n",
    "import matplotlib.pylab as plt\n",
    "import numpy as np\n",
    "import math\n",
    "import datetime\n",
    "import pandas as pd\n",
    "\n",
    "print(\"Version: \", tf.__version__)\n",
    "tf.get_logger().setLevel('INFO')"
   ]
  },
  {
   "cell_type": "markdown",
   "metadata": {
    "colab_type": "text",
    "id": "HnSljqtsXKfb"
   },
   "source": [
    "# Examples of Keras callback applications\n",
    "The following section will guide you through creating simple [Callback](https://keras.io/api/callbacks/) applications."
   ]
  },
  {
   "cell_type": "code",
   "execution_count": 2,
   "metadata": {
    "colab": {},
    "colab_type": "code",
    "id": "spskRuxvCYQE"
   },
   "outputs": [],
   "source": [
    "# Download and prepare the horses or humans dataset\n",
    "\n",
    "# horses_or_humans 3.0.0 has already been downloaded for you\n",
    "path = \"./tensorflow_datasets\"\n",
    "splits, info = tfds.load('horses_or_humans', data_dir=path, as_supervised=True, with_info=True, split=['train[:80%]', 'train[80%:]', 'test'])\n",
    "\n",
    "(train_examples, validation_examples, test_examples) = splits\n",
    "\n",
    "num_examples = info.splits['train'].num_examples\n",
    "num_classes = info.features['label'].num_classes"
   ]
  },
  {
   "cell_type": "code",
   "execution_count": 3,
   "metadata": {
    "colab": {},
    "colab_type": "code",
    "id": "veIsubKTCZsN"
   },
   "outputs": [],
   "source": [
    "SIZE = 150 #@param {type:\"slider\", min:64, max:300, step:1}\n",
    "IMAGE_SIZE = (SIZE, SIZE)"
   ]
  },
  {
   "cell_type": "code",
   "execution_count": 4,
   "metadata": {
    "colab": {},
    "colab_type": "code",
    "id": "faajLlErCb1S"
   },
   "outputs": [],
   "source": [
    "def format_image(image, label):\n",
    "  image = tf.image.resize(image, IMAGE_SIZE) / 255.0\n",
    "  return  image, label"
   ]
  },
  {
   "cell_type": "code",
   "execution_count": 5,
   "metadata": {
    "colab": {},
    "colab_type": "code",
    "id": "AVXPuU12Cdka"
   },
   "outputs": [],
   "source": [
    "BATCH_SIZE = 32 #@param {type:\"integer\"}"
   ]
  },
  {
   "cell_type": "code",
   "execution_count": 6,
   "metadata": {
    "colab": {},
    "colab_type": "code",
    "id": "0lHDkFVaCe48"
   },
   "outputs": [],
   "source": [
    "train_batches = train_examples.shuffle(num_examples // 4).map(format_image).batch(BATCH_SIZE).prefetch(1)\n",
    "validation_batches = validation_examples.map(format_image).batch(BATCH_SIZE).prefetch(1)\n",
    "test_batches = test_examples.map(format_image).batch(1)"
   ]
  },
  {
   "cell_type": "code",
   "execution_count": 7,
   "metadata": {
    "colab": {},
    "colab_type": "code",
    "id": "DxsCqEIkCgUt"
   },
   "outputs": [
    {
     "data": {
      "text/plain": [
       "TensorShape([32, 150, 150, 3])"
      ]
     },
     "execution_count": 7,
     "metadata": {},
     "output_type": "execute_result"
    }
   ],
   "source": [
    "for image_batch, label_batch in train_batches.take(1):\n",
    "  pass\n",
    "\n",
    "image_batch.shape"
   ]
  },
  {
   "cell_type": "code",
   "execution_count": 8,
   "metadata": {
    "colab": {},
    "colab_type": "code",
    "id": "iDBpWvHXCh2A"
   },
   "outputs": [],
   "source": [
    "def build_model(dense_units, input_shape=IMAGE_SIZE + (3,)):\n",
    "  model = tf.keras.models.Sequential([\n",
    "      tf.keras.layers.Conv2D(16, (3, 3), activation='relu', input_shape=input_shape),\n",
    "      tf.keras.layers.MaxPooling2D(2, 2),\n",
    "      tf.keras.layers.Conv2D(32, (3, 3), activation='relu'),\n",
    "      tf.keras.layers.MaxPooling2D(2, 2),\n",
    "      tf.keras.layers.Conv2D(64, (3, 3), activation='relu'),\n",
    "      tf.keras.layers.MaxPooling2D(2, 2),\n",
    "      tf.keras.layers.Flatten(),\n",
    "      tf.keras.layers.Dense(dense_units, activation='relu'),\n",
    "      tf.keras.layers.Dense(2, activation='softmax')\n",
    "  ])\n",
    "  return model"
   ]
  },
  {
   "cell_type": "markdown",
   "metadata": {
    "colab_type": "text",
    "id": "0ZKGkjagENSw"
   },
   "source": [
    "## [TensorBoard](https://keras.io/api/callbacks/tensorboard/)\n",
    "\n",
    "Enable visualizations for TensorBoard."
   ]
  },
  {
   "cell_type": "code",
   "execution_count": 9,
   "metadata": {
    "colab": {},
    "colab_type": "code",
    "id": "CeiD2WVEHbex"
   },
   "outputs": [],
   "source": [
    "!rm -rf logs"
   ]
  },
  {
   "cell_type": "code",
   "execution_count": 10,
   "metadata": {
    "colab": {},
    "colab_type": "code",
    "id": "PpLwPLnAEOzv"
   },
   "outputs": [
    {
     "name": "stdout",
     "output_type": "stream",
     "text": [
      "Epoch 1/10\n",
      "26/26 [==============================] - 21s 810ms/step - loss: 0.6724 - accuracy: 0.5535 - val_loss: 0.6407 - val_accuracy: 0.5756\n",
      "Epoch 2/10\n",
      "26/26 [==============================] - 20s 769ms/step - loss: 0.6253 - accuracy: 0.6521 - val_loss: 0.5892 - val_accuracy: 0.7317\n",
      "Epoch 3/10\n",
      "26/26 [==============================] - 20s 762ms/step - loss: 0.5377 - accuracy: 0.7676 - val_loss: 0.4859 - val_accuracy: 0.8049\n",
      "Epoch 4/10\n",
      "26/26 [==============================] - 20s 769ms/step - loss: 0.4762 - accuracy: 0.8090 - val_loss: 0.4121 - val_accuracy: 0.8585\n",
      "Epoch 5/10\n",
      "26/26 [==============================] - 20s 773ms/step - loss: 0.4150 - accuracy: 0.8321 - val_loss: 0.3531 - val_accuracy: 0.8927\n",
      "Epoch 6/10\n",
      "26/26 [==============================] - 20s 769ms/step - loss: 0.3612 - accuracy: 0.8528 - val_loss: 0.2848 - val_accuracy: 0.9122\n",
      "Epoch 7/10\n",
      "26/26 [==============================] - 20s 769ms/step - loss: 0.3017 - accuracy: 0.8917 - val_loss: 0.2461 - val_accuracy: 0.9268\n",
      "Epoch 8/10\n",
      "26/26 [==============================] - 20s 788ms/step - loss: 0.2338 - accuracy: 0.9355 - val_loss: 0.1829 - val_accuracy: 0.9415\n",
      "Epoch 9/10\n",
      "26/26 [==============================] - 20s 773ms/step - loss: 0.2172 - accuracy: 0.9404 - val_loss: 0.1528 - val_accuracy: 0.9512\n",
      "Epoch 10/10\n",
      "26/26 [==============================] - 20s 773ms/step - loss: 0.1634 - accuracy: 0.9538 - val_loss: 0.1157 - val_accuracy: 0.9805\n"
     ]
    },
    {
     "data": {
      "text/plain": [
       "<tensorflow.python.keras.callbacks.History at 0x7f9d9ff43c50>"
      ]
     },
     "execution_count": 10,
     "metadata": {},
     "output_type": "execute_result"
    }
   ],
   "source": [
    "model = build_model(dense_units=256)\n",
    "model.compile(\n",
    "    optimizer='sgd',\n",
    "    loss='sparse_categorical_crossentropy', \n",
    "    metrics=['accuracy'])\n",
    "  \n",
    "logdir = os.path.join(\"logs\", datetime.datetime.now().strftime(\"%Y%m%d-%H%M%S\"))\n",
    "tensorboard_callback = tf.keras.callbacks.TensorBoard(logdir)\n",
    "\n",
    "model.fit(train_batches, \n",
    "          epochs=10, \n",
    "          validation_data=validation_batches, \n",
    "          callbacks=[tensorboard_callback])"
   ]
  },
  {
   "cell_type": "code",
   "execution_count": 11,
   "metadata": {
    "colab": {},
    "colab_type": "code",
    "id": "iJunWOjZE0ir"
   },
   "outputs": [
    {
     "data": {
      "text/html": [
       "\n",
       "      <iframe id=\"tensorboard-frame-176581b9dd29ac2a\" width=\"100%\" height=\"800\" frameborder=\"0\">\n",
       "      </iframe>\n",
       "      <script>\n",
       "        (function() {\n",
       "          const frame = document.getElementById(\"tensorboard-frame-176581b9dd29ac2a\");\n",
       "          const url = new URL(\"/\", window.location);\n",
       "          url.port = 6006;\n",
       "          frame.src = url;\n",
       "        })();\n",
       "      </script>\n",
       "  "
      ],
      "text/plain": [
       "<IPython.core.display.HTML object>"
      ]
     },
     "metadata": {},
     "output_type": "display_data"
    }
   ],
   "source": [
    "%tensorboard --logdir logs"
   ]
  },
  {
   "cell_type": "markdown",
   "metadata": {
    "colab_type": "text",
    "id": "wv9H4Pc2Mfl7"
   },
   "source": [
    "## [Model Checkpoint](https://keras.io/api/callbacks/model_checkpoint/)\n",
    "\n",
    "Callback to save the Keras model or model weights at some frequency."
   ]
  },
  {
   "cell_type": "code",
   "execution_count": 12,
   "metadata": {
    "colab": {},
    "colab_type": "code",
    "id": "PYV4FJ8iMmDq"
   },
   "outputs": [
    {
     "name": "stdout",
     "output_type": "stream",
     "text": [
      "Epoch 1/5\n",
      "\n",
      "Epoch 00001: saving model to weights.01-0.67.h5\n",
      "26/26 - 21s - loss: 0.6765 - accuracy: 0.5584 - val_loss: 0.6730 - val_accuracy: 0.5171\n",
      "Epoch 2/5\n",
      "\n",
      "Epoch 00002: saving model to weights.02-0.63.h5\n",
      "26/26 - 20s - loss: 0.6461 - accuracy: 0.6253 - val_loss: 0.6282 - val_accuracy: 0.5805\n",
      "Epoch 3/5\n",
      "\n",
      "Epoch 00003: saving model to weights.03-0.67.h5\n",
      "26/26 - 20s - loss: 0.6138 - accuracy: 0.6727 - val_loss: 0.6692 - val_accuracy: 0.5366\n",
      "Epoch 4/5\n",
      "\n",
      "Epoch 00004: saving model to weights.04-0.68.h5\n",
      "26/26 - 20s - loss: 0.5723 - accuracy: 0.7080 - val_loss: 0.6803 - val_accuracy: 0.5561\n",
      "Epoch 5/5\n",
      "\n",
      "Epoch 00005: saving model to weights.05-0.47.h5\n",
      "26/26 - 20s - loss: 0.5355 - accuracy: 0.7397 - val_loss: 0.4708 - val_accuracy: 0.8683\n"
     ]
    },
    {
     "data": {
      "text/plain": [
       "<tensorflow.python.keras.callbacks.History at 0x7f9d9fe0c5d0>"
      ]
     },
     "execution_count": 12,
     "metadata": {},
     "output_type": "execute_result"
    }
   ],
   "source": [
    "model = build_model(dense_units=256)\n",
    "model.compile(\n",
    "    optimizer='sgd',\n",
    "    loss='sparse_categorical_crossentropy', \n",
    "    metrics=['accuracy'])\n",
    "  \n",
    "model.fit(train_batches, \n",
    "          epochs=5, \n",
    "          validation_data=validation_batches, \n",
    "          verbose=2,\n",
    "          callbacks=[ModelCheckpoint('weights.{epoch:02d}-{val_loss:.2f}.h5', verbose=1),\n",
    "          ])"
   ]
  },
  {
   "cell_type": "code",
   "execution_count": 13,
   "metadata": {
    "colab": {},
    "colab_type": "code",
    "id": "oGvjQ8IlMmK6"
   },
   "outputs": [
    {
     "name": "stdout",
     "output_type": "stream",
     "text": [
      "\n",
      "Epoch 00001: saving model to saved_model\n",
      "WARNING:tensorflow:From /opt/conda/lib/python3.7/site-packages/tensorflow_core/python/ops/resource_variable_ops.py:1786: calling BaseResourceVariable.__init__ (from tensorflow.python.ops.resource_variable_ops) with constraint is deprecated and will be removed in a future version.\n",
      "Instructions for updating:\n",
      "If using Keras pass *_constraint arguments to layers.\n"
     ]
    },
    {
     "name": "stderr",
     "output_type": "stream",
     "text": [
      "WARNING:tensorflow:From /opt/conda/lib/python3.7/site-packages/tensorflow_core/python/ops/resource_variable_ops.py:1786: calling BaseResourceVariable.__init__ (from tensorflow.python.ops.resource_variable_ops) with constraint is deprecated and will be removed in a future version.\n",
      "Instructions for updating:\n",
      "If using Keras pass *_constraint arguments to layers.\n"
     ]
    },
    {
     "name": "stdout",
     "output_type": "stream",
     "text": [
      "INFO:tensorflow:Assets written to: saved_model/assets\n"
     ]
    },
    {
     "name": "stderr",
     "output_type": "stream",
     "text": [
      "INFO:tensorflow:Assets written to: saved_model/assets\n"
     ]
    },
    {
     "name": "stdout",
     "output_type": "stream",
     "text": [
      "26/26 - 22s - loss: 0.6733 - accuracy: 0.5973 - val_loss: 0.6891 - val_accuracy: 0.4390\n"
     ]
    },
    {
     "data": {
      "text/plain": [
       "<tensorflow.python.keras.callbacks.History at 0x7f9d9fc84b50>"
      ]
     },
     "execution_count": 13,
     "metadata": {},
     "output_type": "execute_result"
    }
   ],
   "source": [
    "model = build_model(dense_units=256)\n",
    "model.compile(\n",
    "    optimizer='sgd',\n",
    "    loss='sparse_categorical_crossentropy', \n",
    "    metrics=['accuracy'])\n",
    "  \n",
    "model.fit(train_batches, \n",
    "          epochs=1, \n",
    "          validation_data=validation_batches, \n",
    "          verbose=2,\n",
    "          callbacks=[ModelCheckpoint('saved_model', verbose=1)\n",
    "          ])"
   ]
  },
  {
   "cell_type": "code",
   "execution_count": 14,
   "metadata": {
    "colab": {},
    "colab_type": "code",
    "id": "Y1ConwoB0EjD"
   },
   "outputs": [
    {
     "name": "stdout",
     "output_type": "stream",
     "text": [
      "Epoch 1/2\n",
      "\n",
      "Epoch 00001: saving model to model.h5\n",
      "26/26 - 21s - loss: 0.6808 - accuracy: 0.5876 - val_loss: 0.6610 - val_accuracy: 0.8098\n",
      "Epoch 2/2\n",
      "\n",
      "Epoch 00002: saving model to model.h5\n",
      "26/26 - 20s - loss: 0.6429 - accuracy: 0.6873 - val_loss: 0.6399 - val_accuracy: 0.6244\n"
     ]
    },
    {
     "data": {
      "text/plain": [
       "<tensorflow.python.keras.callbacks.History at 0x7f9d9fa0d810>"
      ]
     },
     "execution_count": 14,
     "metadata": {},
     "output_type": "execute_result"
    }
   ],
   "source": [
    "model = build_model(dense_units=256)\n",
    "model.compile(\n",
    "    optimizer='sgd',\n",
    "    loss='sparse_categorical_crossentropy', \n",
    "    metrics=['accuracy'])\n",
    "  \n",
    "model.fit(train_batches, \n",
    "          epochs=2, \n",
    "          validation_data=validation_batches, \n",
    "          verbose=2,\n",
    "          callbacks=[ModelCheckpoint('model.h5', verbose=1)\n",
    "          ])"
   ]
  },
  {
   "cell_type": "markdown",
   "metadata": {
    "colab_type": "text",
    "id": "kptNF0--Lznv"
   },
   "source": [
    "## [Early stopping](https://keras.io/api/callbacks/early_stopping/)\n",
    "\n",
    "Stop training when a monitored metric has stopped improving."
   ]
  },
  {
   "cell_type": "code",
   "execution_count": 15,
   "metadata": {
    "colab": {},
    "colab_type": "code",
    "id": "KJOJTJYdCkdY"
   },
   "outputs": [
    {
     "name": "stdout",
     "output_type": "stream",
     "text": [
      "Epoch 1/50\n",
      "26/26 - 20s - loss: 0.6559 - accuracy: 0.6533 - val_loss: 0.6892 - val_accuracy: 0.4683\n",
      "Epoch 2/50\n",
      "26/26 - 20s - loss: 0.5920 - accuracy: 0.7105 - val_loss: 0.5572 - val_accuracy: 0.7902\n",
      "Epoch 3/50\n",
      "26/26 - 20s - loss: 0.5393 - accuracy: 0.7567 - val_loss: 0.4812 - val_accuracy: 0.8000\n",
      "Epoch 4/50\n",
      "26/26 - 20s - loss: 0.4469 - accuracy: 0.8248 - val_loss: 0.4451 - val_accuracy: 0.8293\n",
      "Epoch 5/50\n",
      "26/26 - 20s - loss: 0.4044 - accuracy: 0.8406 - val_loss: 0.4343 - val_accuracy: 0.8049\n",
      "Epoch 6/50\n",
      "26/26 - 20s - loss: 0.3230 - accuracy: 0.8759 - val_loss: 0.2626 - val_accuracy: 0.9317\n",
      "Epoch 7/50\n",
      "26/26 - 20s - loss: 0.2530 - accuracy: 0.9246 - val_loss: 0.2094 - val_accuracy: 0.9463\n",
      "Epoch 8/50\n",
      "26/26 - 20s - loss: 0.2079 - accuracy: 0.9270 - val_loss: 0.1602 - val_accuracy: 0.9561\n",
      "Epoch 9/50\n",
      "26/26 - 20s - loss: 0.1659 - accuracy: 0.9513 - val_loss: 0.1343 - val_accuracy: 0.9756\n",
      "Epoch 10/50\n",
      "26/26 - 20s - loss: 0.1519 - accuracy: 0.9623 - val_loss: 0.0993 - val_accuracy: 0.9854\n",
      "Epoch 11/50\n",
      "26/26 - 20s - loss: 0.1006 - accuracy: 0.9781 - val_loss: 0.0851 - val_accuracy: 0.9854\n",
      "Epoch 12/50\n",
      "26/26 - 20s - loss: 0.1026 - accuracy: 0.9745 - val_loss: 0.0755 - val_accuracy: 0.9854\n",
      "Epoch 13/50\n",
      "26/26 - 20s - loss: 0.0726 - accuracy: 0.9854 - val_loss: 0.0618 - val_accuracy: 0.9854\n",
      "Epoch 14/50\n",
      "26/26 - 20s - loss: 0.0620 - accuracy: 0.9866 - val_loss: 0.0961 - val_accuracy: 0.9561\n",
      "Epoch 15/50\n",
      "Restoring model weights from the end of the best epoch.\n",
      "26/26 - 20s - loss: 0.0596 - accuracy: 0.9854 - val_loss: 0.0745 - val_accuracy: 0.9902\n",
      "Epoch 00015: early stopping\n"
     ]
    },
    {
     "data": {
      "text/plain": [
       "<tensorflow.python.keras.callbacks.History at 0x7f9d9f8eebd0>"
      ]
     },
     "execution_count": 15,
     "metadata": {},
     "output_type": "execute_result"
    }
   ],
   "source": [
    "model = build_model(dense_units=256)\n",
    "model.compile(\n",
    "    optimizer='sgd',\n",
    "    loss='sparse_categorical_crossentropy', \n",
    "    metrics=['accuracy'])\n",
    "  \n",
    "model.fit(train_batches, \n",
    "          epochs=50, \n",
    "          validation_data=validation_batches, \n",
    "          verbose=2,\n",
    "          callbacks=[EarlyStopping(\n",
    "              patience=3,\n",
    "              min_delta=0.05,\n",
    "              baseline=0.8,\n",
    "              mode='min',\n",
    "              monitor='val_loss',\n",
    "              restore_best_weights=True,\n",
    "              verbose=1)\n",
    "          ])"
   ]
  },
  {
   "cell_type": "markdown",
   "metadata": {
    "colab_type": "text",
    "id": "8mDzWUD4Pqq5"
   },
   "source": [
    "## [CSV Logger](https://keras.io/api/callbacks/csv_logger/)\n",
    "\n",
    "Callback that streams epoch results to a CSV file."
   ]
  },
  {
   "cell_type": "code",
   "execution_count": 16,
   "metadata": {
    "colab": {},
    "colab_type": "code",
    "id": "cffnMpmGPtMh"
   },
   "outputs": [
    {
     "name": "stdout",
     "output_type": "stream",
     "text": [
      "Epoch 1/5\n",
      "26/26 [==============================] - 20s 776ms/step - loss: 0.6822 - accuracy: 0.5365 - val_loss: 0.6485 - val_accuracy: 0.7561\n",
      "Epoch 2/5\n",
      "26/26 [==============================] - 20s 780ms/step - loss: 0.6384 - accuracy: 0.6521 - val_loss: 0.6652 - val_accuracy: 0.4780\n",
      "Epoch 3/5\n",
      "26/26 [==============================] - 20s 763ms/step - loss: 0.5831 - accuracy: 0.7190 - val_loss: 0.5462 - val_accuracy: 0.8000\n",
      "Epoch 4/5\n",
      "26/26 [==============================] - 20s 768ms/step - loss: 0.5178 - accuracy: 0.7762 - val_loss: 0.5336 - val_accuracy: 0.7171\n",
      "Epoch 5/5\n",
      "26/26 [==============================] - 20s 769ms/step - loss: 0.4694 - accuracy: 0.7932 - val_loss: 0.4910 - val_accuracy: 0.7171\n"
     ]
    },
    {
     "data": {
      "text/plain": [
       "<tensorflow.python.keras.callbacks.History at 0x7f9d9f83c810>"
      ]
     },
     "execution_count": 16,
     "metadata": {},
     "output_type": "execute_result"
    }
   ],
   "source": [
    "model = build_model(dense_units=256)\n",
    "model.compile(\n",
    "    optimizer='sgd',\n",
    "    loss='sparse_categorical_crossentropy', \n",
    "    metrics=['accuracy'])\n",
    "  \n",
    "csv_file = 'training.csv'\n",
    "\n",
    "model.fit(train_batches, \n",
    "          epochs=5, \n",
    "          validation_data=validation_batches, \n",
    "          callbacks=[CSVLogger(csv_file)\n",
    "          ])"
   ]
  },
  {
   "cell_type": "code",
   "execution_count": 17,
   "metadata": {
    "colab": {},
    "colab_type": "code",
    "id": "B9tkYi03QV7R"
   },
   "outputs": [
    {
     "data": {
      "text/html": [
       "<div>\n",
       "<style scoped>\n",
       "    .dataframe tbody tr th:only-of-type {\n",
       "        vertical-align: middle;\n",
       "    }\n",
       "\n",
       "    .dataframe tbody tr th {\n",
       "        vertical-align: top;\n",
       "    }\n",
       "\n",
       "    .dataframe thead th {\n",
       "        text-align: right;\n",
       "    }\n",
       "</style>\n",
       "<table border=\"1\" class=\"dataframe\">\n",
       "  <thead>\n",
       "    <tr style=\"text-align: right;\">\n",
       "      <th></th>\n",
       "      <th>epoch</th>\n",
       "      <th>accuracy</th>\n",
       "      <th>loss</th>\n",
       "      <th>val_accuracy</th>\n",
       "      <th>val_loss</th>\n",
       "    </tr>\n",
       "  </thead>\n",
       "  <tbody>\n",
       "    <tr>\n",
       "      <th>0</th>\n",
       "      <td>0</td>\n",
       "      <td>0.536496</td>\n",
       "      <td>0.682415</td>\n",
       "      <td>0.756098</td>\n",
       "      <td>0.648486</td>\n",
       "    </tr>\n",
       "    <tr>\n",
       "      <th>1</th>\n",
       "      <td>1</td>\n",
       "      <td>0.652068</td>\n",
       "      <td>0.639019</td>\n",
       "      <td>0.478049</td>\n",
       "      <td>0.665246</td>\n",
       "    </tr>\n",
       "    <tr>\n",
       "      <th>2</th>\n",
       "      <td>2</td>\n",
       "      <td>0.718978</td>\n",
       "      <td>0.584175</td>\n",
       "      <td>0.800000</td>\n",
       "      <td>0.546182</td>\n",
       "    </tr>\n",
       "    <tr>\n",
       "      <th>3</th>\n",
       "      <td>3</td>\n",
       "      <td>0.776156</td>\n",
       "      <td>0.518010</td>\n",
       "      <td>0.717073</td>\n",
       "      <td>0.533577</td>\n",
       "    </tr>\n",
       "    <tr>\n",
       "      <th>4</th>\n",
       "      <td>4</td>\n",
       "      <td>0.793187</td>\n",
       "      <td>0.467320</td>\n",
       "      <td>0.717073</td>\n",
       "      <td>0.491006</td>\n",
       "    </tr>\n",
       "  </tbody>\n",
       "</table>\n",
       "</div>"
      ],
      "text/plain": [
       "   epoch  accuracy      loss  val_accuracy  val_loss\n",
       "0      0  0.536496  0.682415      0.756098  0.648486\n",
       "1      1  0.652068  0.639019      0.478049  0.665246\n",
       "2      2  0.718978  0.584175      0.800000  0.546182\n",
       "3      3  0.776156  0.518010      0.717073  0.533577\n",
       "4      4  0.793187  0.467320      0.717073  0.491006"
      ]
     },
     "execution_count": 17,
     "metadata": {},
     "output_type": "execute_result"
    }
   ],
   "source": [
    "pd.read_csv(csv_file).head()"
   ]
  },
  {
   "cell_type": "markdown",
   "metadata": {
    "colab_type": "text",
    "id": "Dt9C2Y9fRBKN"
   },
   "source": [
    "## [Learning Rate Scheduler](https://keras.io/api/callbacks/learning_rate_scheduler/)\n",
    "\n",
    "Updates the learning rate during training."
   ]
  },
  {
   "cell_type": "code",
   "execution_count": 18,
   "metadata": {
    "colab": {},
    "colab_type": "code",
    "id": "aJi-xY2VRC03"
   },
   "outputs": [
    {
     "name": "stdout",
     "output_type": "stream",
     "text": [
      "\n",
      "Epoch 00001: LearningRateScheduler reducing learning rate to 0.005.\n",
      "Epoch 1/5\n",
      "26/26 [==============================] - 29s 1s/step - loss: 0.6833 - accuracy: 0.5523 - val_loss: 0.6806 - val_accuracy: 0.4927\n",
      "\n",
      "Epoch 00002: LearningRateScheduler reducing learning rate to 0.0025.\n",
      "Epoch 2/5\n",
      "26/26 [==============================] - 20s 776ms/step - loss: 0.6616 - accuracy: 0.6217 - val_loss: 0.6719 - val_accuracy: 0.5122\n",
      "\n",
      "Epoch 00003: LearningRateScheduler reducing learning rate to 0.00125.\n",
      "Epoch 3/5\n",
      "26/26 [==============================] - 20s 773ms/step - loss: 0.6502 - accuracy: 0.6229 - val_loss: 0.6604 - val_accuracy: 0.5805\n",
      "\n",
      "Epoch 00004: LearningRateScheduler reducing learning rate to 0.000625.\n",
      "Epoch 4/5\n",
      "26/26 [==============================] - 20s 776ms/step - loss: 0.6452 - accuracy: 0.6460 - val_loss: 0.6584 - val_accuracy: 0.5756\n",
      "\n",
      "Epoch 00005: LearningRateScheduler reducing learning rate to 0.0003125.\n",
      "Epoch 5/5\n",
      "26/26 [==============================] - 21s 793ms/step - loss: 0.6415 - accuracy: 0.6509 - val_loss: 0.6575 - val_accuracy: 0.5659\n"
     ]
    },
    {
     "data": {
      "text/plain": [
       "<tensorflow.python.keras.callbacks.History at 0x7f9d9cfeb390>"
      ]
     },
     "execution_count": 18,
     "metadata": {},
     "output_type": "execute_result"
    }
   ],
   "source": [
    "model = build_model(dense_units=256)\n",
    "model.compile(\n",
    "    optimizer='sgd',\n",
    "    loss='sparse_categorical_crossentropy', \n",
    "    metrics=['accuracy'])\n",
    "  \n",
    "def step_decay(epoch):\n",
    "\tinitial_lr = 0.01\n",
    "\tdrop = 0.5\n",
    "\tepochs_drop = 1\n",
    "\tlr = initial_lr * math.pow(drop, math.floor((1+epoch)/epochs_drop))\n",
    "\treturn lr\n",
    "\n",
    "model.fit(train_batches, \n",
    "          epochs=5, \n",
    "          validation_data=validation_batches, \n",
    "          callbacks=[LearningRateScheduler(step_decay, verbose=1),\n",
    "                    TensorBoard(log_dir='./log_dir')])"
   ]
  },
  {
   "cell_type": "code",
   "execution_count": 19,
   "metadata": {
    "colab": {},
    "colab_type": "code",
    "id": "M2S4n8nrbV91"
   },
   "outputs": [
    {
     "data": {
      "text/html": [
       "\n",
       "      <iframe id=\"tensorboard-frame-e0b67b661ecf02b\" width=\"100%\" height=\"800\" frameborder=\"0\">\n",
       "      </iframe>\n",
       "      <script>\n",
       "        (function() {\n",
       "          const frame = document.getElementById(\"tensorboard-frame-e0b67b661ecf02b\");\n",
       "          const url = new URL(\"/\", window.location);\n",
       "          url.port = 6007;\n",
       "          frame.src = url;\n",
       "        })();\n",
       "      </script>\n",
       "  "
      ],
      "text/plain": [
       "<IPython.core.display.HTML object>"
      ]
     },
     "metadata": {},
     "output_type": "display_data"
    }
   ],
   "source": [
    "%tensorboard --logdir log_dir"
   ]
  },
  {
   "cell_type": "markdown",
   "metadata": {
    "colab_type": "text",
    "id": "y0wcuQyJE_UK"
   },
   "source": [
    "## [ReduceLROnPlateau](https://keras.io/api/callbacks/reduce_lr_on_plateau/)\n",
    "\n",
    "Reduce learning rate when a metric has stopped improving."
   ]
  },
  {
   "cell_type": "code",
   "execution_count": null,
   "metadata": {
    "colab": {},
    "colab_type": "code",
    "id": "4naxZ-eCFB27"
   },
   "outputs": [
    {
     "name": "stdout",
     "output_type": "stream",
     "text": [
      "Epoch 1/50\n",
      "26/26 [==============================] - 22s 835ms/step - loss: 0.6702 - accuracy: 0.5864 - val_loss: 0.6577 - val_accuracy: 0.5951\n",
      "Epoch 2/50\n",
      "26/26 [==============================] - 21s 792ms/step - loss: 0.6259 - accuracy: 0.7129 - val_loss: 0.5979 - val_accuracy: 0.7854\n",
      "Epoch 3/50\n",
      "26/26 [==============================] - 20s 788ms/step - loss: 0.5703 - accuracy: 0.7713 - val_loss: 0.5296 - val_accuracy: 0.8293\n",
      "Epoch 4/50\n",
      "26/26 [==============================] - 20s 777ms/step - loss: 0.5052 - accuracy: 0.7956 - val_loss: 0.5073 - val_accuracy: 0.7854\n",
      "Epoch 5/50\n",
      "26/26 [==============================] - 21s 792ms/step - loss: 0.4181 - accuracy: 0.8491 - val_loss: 0.3681 - val_accuracy: 0.8683\n",
      "Epoch 6/50\n",
      "26/26 [==============================] - 21s 792ms/step - loss: 0.3826 - accuracy: 0.8528 - val_loss: 0.3099 - val_accuracy: 0.9122\n",
      "Epoch 7/50\n",
      "26/26 [==============================] - 20s 769ms/step - loss: 0.2901 - accuracy: 0.9161 - val_loss: 0.2590 - val_accuracy: 0.9220\n",
      "Epoch 8/50\n",
      "26/26 [==============================] - 20s 785ms/step - loss: 0.2159 - accuracy: 0.9489 - val_loss: 0.1777 - val_accuracy: 0.9610\n",
      "Epoch 9/50\n",
      "26/26 [==============================] - 20s 769ms/step - loss: 0.1850 - accuracy: 0.9513 - val_loss: 0.1415 - val_accuracy: 0.9854\n",
      "Epoch 10/50\n",
      "26/26 [==============================] - 20s 778ms/step - loss: 0.1631 - accuracy: 0.9526 - val_loss: 0.1184 - val_accuracy: 0.9805\n",
      "Epoch 11/50\n",
      "26/26 [==============================] - 20s 768ms/step - loss: 0.1274 - accuracy: 0.9708 - val_loss: 0.1014 - val_accuracy: 0.9902\n",
      "Epoch 12/50\n",
      "26/26 [==============================] - 21s 796ms/step - loss: 0.1271 - accuracy: 0.9684 - val_loss: 0.0911 - val_accuracy: 0.9902\n",
      "Epoch 13/50\n",
      "26/26 [==============================] - 20s 777ms/step - loss: 0.0840 - accuracy: 0.9866 - val_loss: 0.0744 - val_accuracy: 0.9902\n",
      "Epoch 14/50\n",
      "25/26 [===========================>..] - ETA: 0s - loss: 0.0708 - accuracy: 0.9862\n",
      "Epoch 00014: ReduceLROnPlateau reducing learning rate to 0.0019999999552965165.\n",
      "26/26 [==============================] - 20s 785ms/step - loss: 0.0751 - accuracy: 0.9842 - val_loss: 0.1146 - val_accuracy: 0.9463\n",
      "Epoch 15/50\n",
      "26/26 [==============================] - 20s 785ms/step - loss: 0.0656 - accuracy: 0.9854 - val_loss: 0.0604 - val_accuracy: 0.9902\n",
      "Epoch 16/50\n",
      "26/26 [==============================] - 20s 781ms/step - loss: 0.0594 - accuracy: 0.9866 - val_loss: 0.0588 - val_accuracy: 0.9902\n",
      "Epoch 17/50\n",
      "26/26 [==============================] - 20s 773ms/step - loss: 0.0577 - accuracy: 0.9878 - val_loss: 0.0575 - val_accuracy: 0.9854\n",
      "Epoch 18/50\n",
      "26/26 [==============================] - 20s 773ms/step - loss: 0.0564 - accuracy: 0.9891 - val_loss: 0.0565 - val_accuracy: 0.9902\n",
      "Epoch 19/50\n",
      "25/26 [===========================>..] - ETA: 0s - loss: 0.0556 - accuracy: 0.9875\n",
      "Epoch 00019: ReduceLROnPlateau reducing learning rate to 0.001.\n",
      "26/26 [==============================] - 20s 777ms/step - loss: 0.0551 - accuracy: 0.9878 - val_loss: 0.0564 - val_accuracy: 0.9805\n",
      "Epoch 20/50\n",
      "20/26 [======================>.......] - ETA: 4s - loss: 0.0512 - accuracy: 0.9891"
     ]
    }
   ],
   "source": [
    "model = build_model(dense_units=256)\n",
    "model.compile(\n",
    "    optimizer='sgd',\n",
    "    loss='sparse_categorical_crossentropy', \n",
    "    metrics=['accuracy'])\n",
    "  \n",
    "model.fit(train_batches, \n",
    "          epochs=50, \n",
    "          validation_data=validation_batches, \n",
    "          callbacks=[ReduceLROnPlateau(monitor='val_loss', \n",
    "                                       factor=0.2, verbose=1,\n",
    "                                       patience=1, min_lr=0.001),\n",
    "                     TensorBoard(log_dir='./log_dir')])"
   ]
  },
  {
   "cell_type": "code",
   "execution_count": null,
   "metadata": {
    "colab": {},
    "colab_type": "code",
    "id": "isfTWP4NYudk"
   },
   "outputs": [],
   "source": [
    "%tensorboard --logdir log_dir"
   ]
  }
 ],
 "metadata": {
  "colab": {
   "collapsed_sections": [],
   "include_colab_link": true,
   "name": "ExploringCallbacks.ipynb",
   "provenance": []
  },
  "kernelspec": {
   "display_name": "Python 3",
   "language": "python",
   "name": "python3"
  },
  "language_info": {
   "codemirror_mode": {
    "name": "ipython",
    "version": 3
   },
   "file_extension": ".py",
   "mimetype": "text/x-python",
   "name": "python",
   "nbconvert_exporter": "python",
   "pygments_lexer": "ipython3",
   "version": "3.7.6"
  }
 },
 "nbformat": 4,
 "nbformat_minor": 4
}
